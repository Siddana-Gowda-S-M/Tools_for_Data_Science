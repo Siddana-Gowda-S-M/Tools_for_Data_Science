{
 "cells": [
  {
   "cell_type": "markdown",
   "id": "df55ea4a-b325-4f47-8468-6b59440341ec",
   "metadata": {},
   "source": [
    "##  Data Science Tools and Ecosystem\n"
   ]
  },
  {
   "cell_type": "markdown",
   "id": "4351e602-58d8-423b-ba88-7d4e181d02be",
   "metadata": {},
   "source": [
    "In this notebook, Data Science Tools and Ecosystem are summarized."
   ]
  },
  {
   "cell_type": "markdown",
   "id": "ed476353-ec6d-499b-b57a-0fad52ee6659",
   "metadata": {},
   "source": [
    "## Objectives:\n",
    "\n",
    ". The popular languages are python,SQL,R,Julia.\n",
    "\n",
    ". Python is open source.\n",
    "\n",
    ". SQL was designed for managing data in realational database.\n",
    "\n",
    ". R is free software.\n",
    "\n",
    ". One greate application of Julia for Data Science is JuliaDB."
   ]
  },
  {
   "cell_type": "markdown",
   "id": "44a13514-dc85-40cb-b3d3-099461f5add4",
   "metadata": {},
   "source": [
    "# Data science languages\n"
   ]
  },
  {
   "cell_type": "markdown",
   "id": "aa6e4bd8-6c9b-419b-8282-8def994349bf",
   "metadata": {},
   "source": [
    "Some of the popular languages that Data Scientists use are:\n",
    "\n",
    "1.Python\n",
    "\n",
    "2.R\n",
    "\n",
    "3.SQL"
   ]
  },
  {
   "cell_type": "markdown",
   "id": "e306f4aa-de32-4302-ada6-c1acd5b1f339",
   "metadata": {},
   "source": [
    "## Data science libraries"
   ]
  },
  {
   "cell_type": "markdown",
   "id": "13c10319-5192-4dd5-994e-4a73b00e08cd",
   "metadata": {},
   "source": [
    "Some of the commonly used libraries used by Data Scientists include:\n",
    "\n",
    "1.Pandas\n",
    "\n",
    "2.NumPy\n",
    "\n",
    "3.Matplotlib\n"
   ]
  },
  {
   "cell_type": "markdown",
   "id": "6273f331-0fba-4581-8424-bdf3cd983e64",
   "metadata": {},
   "source": [
    "## Data Science Tools"
   ]
  },
  {
   "cell_type": "markdown",
   "id": "bf54f07c-1b9f-4e6a-ab1f-beb34d193fe4",
   "metadata": {},
   "source": [
    "Some tools used in data science:\n",
    "\n",
    "1.MongoDB\n",
    "\n",
    "2.Apache SparkSQL\n",
    "\n",
    "3.TensorFlow\n"
   ]
  },
  {
   "cell_type": "markdown",
   "id": "d1dba171-3502-4cdf-88bd-91f6e99ed169",
   "metadata": {},
   "source": [
    "## Below are a few examples of evaluating arithmetic expressions in Python."
   ]
  },
  {
   "cell_type": "code",
   "execution_count": 3,
   "id": "94765e7c-bb8b-4fa7-abce-30da1cae49ee",
   "metadata": {},
   "outputs": [
    {
     "data": {
      "text/plain": [
       "17"
      ]
     },
     "execution_count": 3,
     "metadata": {},
     "output_type": "execute_result"
    }
   ],
   "source": [
    "## This a simple arithmetic expression to mutiply then add integers\n",
    "(3*4)+5"
   ]
  },
  {
   "cell_type": "markdown",
   "id": "757a2351-f262-4927-b7ef-30054dbac69c",
   "metadata": {},
   "source": [
    "## Convert minutes to hours"
   ]
  },
  {
   "cell_type": "code",
   "execution_count": 4,
   "id": "b650a8d7-507c-4187-a6ce-6188d66a15b1",
   "metadata": {},
   "outputs": [
    {
     "data": {
      "text/plain": [
       "3.3333333333333335"
      ]
     },
     "execution_count": 4,
     "metadata": {},
     "output_type": "execute_result"
    }
   ],
   "source": [
    "## This will convert 200 minutes to hours by diving by 60\n",
    "200/60"
   ]
  },
  {
   "cell_type": "markdown",
   "id": "a8fa479e-f2ce-4d2f-9af2-1b79c342ee6b",
   "metadata": {},
   "source": [
    " ## Author"
   ]
  },
  {
   "cell_type": "markdown",
   "id": "8e404ef3-15a1-48ec-bd36-0aaaf25a8657",
   "metadata": {},
   "source": [
    "SIDDANA GOWDA S M"
   ]
  },
  {
   "cell_type": "code",
   "execution_count": null,
   "id": "50585558-6803-4dc0-b29c-b922b3f32900",
   "metadata": {},
   "outputs": [],
   "source": []
  }
 ],
 "metadata": {
  "kernelspec": {
   "display_name": "Python 3",
   "language": "python",
   "name": "python3"
  },
  "language_info": {
   "codemirror_mode": {
    "name": "ipython",
    "version": 3
   },
   "file_extension": ".py",
   "mimetype": "text/x-python",
   "name": "python",
   "nbconvert_exporter": "python",
   "pygments_lexer": "ipython3",
   "version": "3.13.0"
  }
 },
 "nbformat": 4,
 "nbformat_minor": 5
}
